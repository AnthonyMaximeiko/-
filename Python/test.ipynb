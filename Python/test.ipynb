{
 "cells": [
  {
   "cell_type": "markdown",
   "metadata": {},
   "source": [
    "***Откройте файл с таблицей Выведите последние 10 строк.\n",
    "Посмотрите на данные и скажите, что они из себя представляют, сколько в таблице строк, какие столбцы?***"
   ]
  },
  {
   "cell_type": "code",
   "execution_count": 1,
   "metadata": {},
   "outputs": [
    {
     "name": "stdout",
     "output_type": "stream",
     "text": [
      "      order_id  quantity            item_name  \\\n",
      "4612      1831         1        Carnitas Bowl   \n",
      "4613      1831         1                Chips   \n",
      "4614      1831         1        Bottled Water   \n",
      "4615      1832         1   Chicken Soft Tacos   \n",
      "4616      1832         1  Chips and Guacamole   \n",
      "4617      1833         1        Steak Burrito   \n",
      "4618      1833         1        Steak Burrito   \n",
      "4619      1834         1   Chicken Salad Bowl   \n",
      "4620      1834         1   Chicken Salad Bowl   \n",
      "4621      1834         1   Chicken Salad Bowl   \n",
      "\n",
      "                                     choice_description item_price  \n",
      "4612  [Fresh Tomato Salsa, [Fajita Vegetables, Rice,...     $9.25   \n",
      "4613                                                NaN     $2.15   \n",
      "4614                                                NaN     $1.50   \n",
      "4615   [Fresh Tomato Salsa, [Rice, Cheese, Sour Cream]]     $8.75   \n",
      "4616                                                NaN     $4.45   \n",
      "4617  [Fresh Tomato Salsa, [Rice, Black Beans, Sour ...    $11.75   \n",
      "4618  [Fresh Tomato Salsa, [Rice, Sour Cream, Cheese...    $11.75   \n",
      "4619  [Fresh Tomato Salsa, [Fajita Vegetables, Pinto...    $11.25   \n",
      "4620  [Fresh Tomato Salsa, [Fajita Vegetables, Lettu...     $8.75   \n",
      "4621  [Fresh Tomato Salsa, [Fajita Vegetables, Pinto...     $8.75   \n",
      "\n",
      "Информация о таблице:\n",
      "<class 'pandas.core.frame.DataFrame'>\n",
      "RangeIndex: 4622 entries, 0 to 4621\n",
      "Data columns (total 5 columns):\n",
      " #   Column              Non-Null Count  Dtype \n",
      "---  ------              --------------  ----- \n",
      " 0   order_id            4622 non-null   int64 \n",
      " 1   quantity            4622 non-null   int64 \n",
      " 2   item_name           4622 non-null   object\n",
      " 3   choice_description  3376 non-null   object\n",
      " 4   item_price          4622 non-null   object\n",
      "dtypes: int64(2), object(3)\n",
      "memory usage: 180.7+ KB\n",
      "None\n"
     ]
    }
   ],
   "source": [
    "import pandas as pd\n",
    "\n",
    "# Чтение файла data.csv\n",
    "df = pd.read_csv('data.csv')\n",
    "\n",
    "# Вывод последних 10 строк\n",
    "print(df.tail(10))\n",
    "\n",
    "# Информация о таблице\n",
    "print(\"\\nИнформация о таблице:\")\n",
    "print(df.info())"
   ]
  },
  {
   "cell_type": "markdown",
   "metadata": {},
   "source": [
    "***Сколько заказов попало в выборку?\n",
    "Сколько уникальных категорий товара было куплено? (item_name)***"
   ]
  },
  {
   "cell_type": "code",
   "execution_count": 2,
   "metadata": {},
   "outputs": [
    {
     "name": "stdout",
     "output_type": "stream",
     "text": [
      "Количество заказов: 1834\n",
      "Количество уникальных категорий товара: 50\n"
     ]
    }
   ],
   "source": [
    "import pandas as pd\n",
    "\n",
    "# Чтение файла data.csv\n",
    "df = pd.read_csv('data.csv')\n",
    "\n",
    "# Подсчет количества заказов\n",
    "order_count = df['order_id'].nunique()\n",
    "\n",
    "# Подсчет количества уникальных категорий товара\n",
    "unique_items_count = df['item_name'].nunique()\n",
    "\n",
    "# Вывод результатов\n",
    "print(f\"Количество заказов: {order_count}\")\n",
    "print(f\"Количество уникальных категорий товара: {unique_items_count}\")"
   ]
  },
  {
   "cell_type": "markdown",
   "metadata": {},
   "source": [
    "***Есть ли в данных пропуски? В каких колонках?   \n",
    "Заполните пропуски пустой строкой для строковых колонок и нулём для числовых.***"
   ]
  },
  {
   "cell_type": "code",
   "execution_count": 3,
   "metadata": {},
   "outputs": [
    {
     "name": "stdout",
     "output_type": "stream",
     "text": [
      "Пропуски в данных:\n",
      "order_id                 0\n",
      "quantity                 0\n",
      "item_name                0\n",
      "choice_description    1246\n",
      "item_price               0\n",
      "dtype: int64\n",
      "\n",
      "Пропуски после заполнения:\n",
      "order_id              0\n",
      "quantity              0\n",
      "item_name             0\n",
      "choice_description    0\n",
      "item_price            0\n",
      "dtype: int64\n"
     ]
    }
   ],
   "source": [
    "import pandas as pd\n",
    "\n",
    "# Чтение файла data.csv\n",
    "df = pd.read_csv('data.csv')\n",
    "\n",
    "# Проверка наличия пропусков в данных\n",
    "missing_values = df.isnull().sum()\n",
    "\n",
    "# Вывод информации о пропусках\n",
    "print(\"Пропуски в данных:\")\n",
    "print(missing_values)\n",
    "\n",
    "# Заполнение пропусков пустой строкой для строковых колонок и нулём для числовых\n",
    "df = df.fillna({'quantity': 0, 'item_name': '', 'choice_description': '', 'item_price': 0})\n",
    "\n",
    "# Проверка, что пропуски были успешно заполнены\n",
    "missing_values_after_fill = df.isnull().sum()\n",
    "print(\"\\nПропуски после заполнения:\")\n",
    "print(missing_values_after_fill)"
   ]
  },
  {
   "cell_type": "markdown",
   "metadata": {},
   "source": [
    "***Какая средняя/минимальная/максимальная цена у товара?***"
   ]
  },
  {
   "cell_type": "code",
   "execution_count": 4,
   "metadata": {},
   "outputs": [
    {
     "name": "stdout",
     "output_type": "stream",
     "text": [
      "Средняя цена товара: $7.46\n",
      "Минимальная цена товара: $1.09\n",
      "Максимальная цена товара: $44.25\n"
     ]
    }
   ],
   "source": [
    "import pandas as pd\n",
    "\n",
    "# Чтение файла data.csv\n",
    "df = pd.read_csv('data.csv')\n",
    "\n",
    "# Удаление символа доллара и преобразование столбца item_price в числовой формат\n",
    "df['item_price'] = df['item_price'].str.replace('$', '').astype(float)\n",
    "\n",
    "# Вычисление средней, минимальной и максимальной цен\n",
    "average_price = df['item_price'].mean()\n",
    "min_price = df['item_price'].min()\n",
    "max_price = df['item_price'].max()\n",
    "\n",
    "# Вывод результатов\n",
    "print(f\"Средняя цена товара: ${average_price:.2f}\")\n",
    "print(f\"Минимальная цена товара: ${min_price:.2f}\")\n",
    "print(f\"Максимальная цена товара: ${max_price:.2f}\")"
   ]
  },
  {
   "cell_type": "markdown",
   "metadata": {},
   "source": [
    "***Выведите 5% наиболее дорогих заказов. В ответе должны фигурировать следующие столбцы: quantity, item_name, item_price***"
   ]
  },
  {
   "cell_type": "code",
   "execution_count": 7,
   "metadata": {},
   "outputs": [
    {
     "name": "stdout",
     "output_type": "stream",
     "text": [
      "      quantity                     item_name  item_price\n",
      "3598        15  Chips and Fresh Tomato Salsa       44.25\n",
      "3480         3                 Carnitas Bowl       35.25\n",
      "1254         4               Chicken Burrito       35.00\n",
      "3602         4               Chicken Burrito       35.00\n",
      "3601         3                Veggie Burrito       33.75\n",
      "...        ...                           ...         ...\n",
      "1192         1                    Steak Bowl       11.75\n",
      "1199         1                 Steak Burrito       11.75\n",
      "1202         1              Barbacoa Burrito       11.75\n",
      "1231         1                 Steak Burrito       11.75\n",
      "1244         1                 Carnitas Bowl       11.75\n",
      "\n",
      "[231 rows x 3 columns]\n"
     ]
    }
   ],
   "source": [
    "#Первый вариант решения\n",
    "import pandas as pd\n",
    "\n",
    "# Чтение файла data.csv\n",
    "df = pd.read_csv('data.csv')\n",
    "\n",
    "# Преобразование столбца 'item_price' в числовой формат\n",
    "df['item_price'] = df['item_price'].str.replace('$', '').astype(float)\n",
    "\n",
    "# Сортировка данных по убыванию цены и выбор 5% наиболее дорогих заказов\n",
    "top_5_percent_expensive_orders = df.nlargest(int(len(df) * 0.05), 'item_price')\n",
    "\n",
    "# Вывод необходимых столбцов\n",
    "result = top_5_percent_expensive_orders[['quantity', 'item_name', 'item_price']]\n",
    "\n",
    "# Вывод результатов\n",
    "print(result)"
   ]
  },
  {
   "cell_type": "code",
   "execution_count": null,
   "metadata": {},
   "outputs": [],
   "source": [
    "#2ой вариант решения через квантиль\n",
    "import pandas as pd\n",
    "\n",
    "# Загрузка данных из CSV файла\n",
    "data_path = '/mnt/data/data.csv'\n",
    "df = pd.read_csv(data_path)\n",
    "\n",
    "# Удаление символа доллара и преобразование столбца item_price в числовой формат\n",
    "df['item_price'] = df['item_price'].str.replace('$', '').astype(float)\n",
    "\n",
    "# Расчет общей стоимости каждого элемента в заказе\n",
    "df['total_price'] = df['quantity'] * df['item_price']\n",
    "\n",
    "# Сортировка заказов по общей стоимости от большего к меньшему\n",
    "sorted_orders = df.sort_values(by='total_price', ascending=False)\n",
    "\n",
    "# Расчет количества заказов, составляющих верхние 5%\n",
    "top_5_percent_count = int(len(sorted_orders) * 0.05)\n",
    "\n",
    "# Выбор верхних 5% самых дорогих заказов\n",
    "top_5_percent_orders = sorted_orders.head(top_5_percent_count)\n",
    "\n",
    "# Вывод информации о верхних 5% самых дорогих заказах\n",
    "print(top_5_percent_orders[['order_id', 'quantity', 'item_name', 'item_price', 'total_price']].head())"
   ]
  },
  {
   "cell_type": "markdown",
   "metadata": {},
   "source": [
    "***Посчитайте кол-во заказов, где сумма чека больше 20$. Какой это процент от общего числа заказов?***"
   ]
  },
  {
   "cell_type": "code",
   "execution_count": 6,
   "metadata": {},
   "outputs": [
    {
     "name": "stdout",
     "output_type": "stream",
     "text": [
      "Количество заказов со суммой чека более $20: 566\n",
      "Процент заказов со суммой чека более $20: 30.86%\n"
     ]
    }
   ],
   "source": [
    "import pandas as pd\n",
    "\n",
    "# Чтение файла data.csv\n",
    "df = pd.read_csv('data.csv')\n",
    "\n",
    "# Преобразование столбца 'item_price' в числовой формат\n",
    "df['item_price'] = df['item_price'].str.replace('$', '').astype(float)\n",
    "\n",
    "# Группировка данных по order_id и суммирование цен для каждого заказа\n",
    "order_total = df.groupby('order_id')['item_price'].sum()\n",
    "\n",
    "# Подсчет количества заказов, где сумма чека больше 20$\n",
    "orders_over_20 = (order_total > 20).sum()\n",
    "\n",
    "# Расчет процента заказов с суммой чека больше 20\n",
    "percentage_over_20 = (orders_over_20 / df['order_id'].nunique()) * 100\n",
    "\n",
    "# Вывод результатов\n",
    "print(f\"Количество заказов со суммой чека более $20: {orders_over_20}\")\n",
    "print(f\"Процент заказов со суммой чека более $20: {percentage_over_20:.2f}%\")\n"
   ]
  },
  {
   "cell_type": "markdown",
   "metadata": {},
   "source": [
    "***Разбейте заказы на три группы: дешевые, средние и дорогие. Порог для групп подберите сами (посмотрите, на около какой суммы чаще берут в каждой группе).***"
   ]
  },
  {
   "cell_type": "code",
   "execution_count": 8,
   "metadata": {},
   "outputs": [
    {
     "name": "stdout",
     "output_type": "stream",
     "text": [
      "      order_id    group\n",
      "0            1  средние\n",
      "4            2  средние\n",
      "5            3  средние\n",
      "7            4  дорогие\n",
      "9            5  средние\n",
      "...        ...      ...\n",
      "4610      1830  дорогие\n",
      "4612      1831  средние\n",
      "4615      1832  средние\n",
      "4617      1833  дорогие\n",
      "4619      1834  дорогие\n",
      "\n",
      "[1834 rows x 2 columns]\n"
     ]
    }
   ],
   "source": [
    "import pandas as pd\n",
    "\n",
    "# Чтение файла data.csv\n",
    "df = pd.read_csv('data.csv')\n",
    "\n",
    "# Преобразование столбца 'item_price' в числовой формат\n",
    "df['item_price'] = df['item_price'].str.replace('$', '').astype(float)\n",
    "\n",
    "# Группировка данных по order_id и суммирование цен для каждого заказа\n",
    "order_total = df.groupby('order_id')['item_price'].sum()\n",
    "\n",
    "# Создание нового столбца 'order_total' с суммой чека для каждой строки\n",
    "df['order_total'] = df['order_id'].map(order_total)\n",
    "\n",
    "# Определение порогов для групп\n",
    "cheap_threshold = 10\n",
    "medium_threshold = 20\n",
    "\n",
    "# Создание нового столбца 'group' на основе суммы чека\n",
    "df['group'] = pd.cut(df['order_total'],\n",
    "                      bins=[-float('inf'), cheap_threshold, medium_threshold, float('inf')],\n",
    "                      labels=['дешевые', 'средние', 'дорогие'])\n",
    "\n",
    "# Вывод результатов\n",
    "print(df[['order_id', 'group']].drop_duplicates())"
   ]
  }
 ],
 "metadata": {
  "kernelspec": {
   "display_name": "Python 3 (ipykernel)",
   "language": "python",
   "name": "python3"
  },
  "language_info": {
   "codemirror_mode": {
    "name": "ipython",
    "version": 3
   },
   "file_extension": ".py",
   "mimetype": "text/x-python",
   "name": "python",
   "nbconvert_exporter": "python",
   "pygments_lexer": "ipython3",
   "version": "3.11.5"
  },
  "toc": {
   "base_numbering": 1,
   "nav_menu": {},
   "number_sections": false,
   "sideBar": false,
   "skip_h1_title": false,
   "title_cell": "Table of Contents",
   "title_sidebar": "Contents",
   "toc_cell": false,
   "toc_position": {},
   "toc_section_display": false,
   "toc_window_display": false
  }
 },
 "nbformat": 4,
 "nbformat_minor": 2
}
